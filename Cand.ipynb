{
 "cells": [
  {
   "cell_type": "markdown",
   "metadata": {},
   "source": [
    "Расчётная часть для кандидатской\n",
    "Расчёт стойкости кода и системы кодирования. Избыточность и так далее."
   ]
  },
  {
   "cell_type": "code",
   "execution_count": 5,
   "metadata": {},
   "outputs": [],
   "source": [
    "import numpy as nm\n",
    "import matplotlib as mp\n",
    "import matplotlib.pyplot as plt\n",
    "from math import exp\n",
    "from math import *\n",
    "from math import sqrt\n",
    "from numpy import linspace\n",
    "\n"
   ]
  },
  {
   "cell_type": "code",
   "execution_count": 6,
   "metadata": {},
   "outputs": [],
   "source": [
    "# переменные\n",
    "# Объявление переменных\n",
    "# Отношение сигнал/шум  [1]\n",
    "h = 3  \n",
    "# Мощность передатчика \n",
    "Pprd =2.5 * (10**(3))\n",
    "# Время импульса приём\n",
    "Tprd = 0.6 * (10**(-6))\n",
    "# Врмя импульса передатчик\n",
    "Tprm = 0.7 * (10**(-7))\n",
    "# Ширина полосы пропускания\n",
    "F = 25* 10 ** 6"
   ]
  },
  {
   "cell_type": "markdown",
   "metadata": {},
   "source": [
    "Расчётная часть\n",
    "Определим вероятность ошибки приёма одного символа [2]"
   ]
  },
  {
   "cell_type": "code",
   "execution_count": 7,
   "metadata": {},
   "outputs": [
    {
     "name": "stdout",
     "output_type": "stream",
     "text": [
      "0.005554498269121153\n",
      "6\n",
      "5.249999999999999\n"
     ]
    }
   ],
   "source": [
    "Po = 0.5 * exp (-0.5* (h**(2)))\n",
    "print (Po)\n",
    "#hex = linspace(0, 5, 2)\n",
    "#Poex = 0.5 * exp (-0.5* (hex**(2)))\n",
    "plt.plot(h, Po)\n",
    "# Вероятность ложного сигнала\n",
    "q= 2* h\n",
    "print (q)\n",
    "# Помехоустойчивость приёма\n",
    "Ppr = h * F * Tprm\n",
    "print (Ppr)"
   ]
  },
  {
   "cell_type": "markdown",
   "metadata": {},
   "source": [
    "Таким образом, получив значение помехозищищённости, мы можем регулировать параметры кодирования\n",
    "чтобы увеличить помехозащищённость."
   ]
  },
  {
   "cell_type": "code",
   "execution_count": 8,
   "metadata": {},
   "outputs": [
    {
     "name": "stdout",
     "output_type": "stream",
     "text": [
      "14285714.285714287\n"
     ]
    },
    {
     "name": "stderr",
     "output_type": "stream",
     "text": [
      "/home/kblok/anaconda3/lib/python3.6/site-packages/ipykernel_launcher.py:5: RuntimeWarning: divide by zero encountered in true_divide\n",
      "  \"\"\"\n"
     ]
    },
    {
     "data": {
      "text/plain": [
       "[<matplotlib.lines.Line2D at 0x7faac6478b38>]"
      ]
     },
     "execution_count": 8,
     "metadata": {},
     "output_type": "execute_result"
    }
   ],
   "source": [
    "# Скорость телеграфирования\n",
    "B = h * F / Ppr\n",
    "print (B)\n",
    "Bex = linspace(0, 10**9, 4)\n",
    "Pprex = h * F / Bex\n",
    "plt.plot(Bex, Pprex)\n",
    "Tprex = linspace (10 ** (-8), 10 ** (-7), 4)\n",
    "Pprex = h * F * Tprex\n",
    "plt.plot(Tprex , Pprex)"
   ]
  },
  {
   "cell_type": "code",
   "execution_count": null,
   "metadata": {},
   "outputs": [],
   "source": []
  },
  {
   "cell_type": "code",
   "execution_count": null,
   "metadata": {},
   "outputs": [],
   "source": []
  },
  {
   "cell_type": "code",
   "execution_count": null,
   "metadata": {},
   "outputs": [],
   "source": []
  },
  {
   "cell_type": "raw",
   "metadata": {},
   "source": [
    "Список литературы\n",
    "[1] Википедия\n",
    "[2] ПРИМЕНЕНИЕ СТЕГАНОГРАФИЧЕСКИХ АЛГОРИТМОВ ДЛЯ ПОВЫШЕНИЯ СТЕПЕНИ ЗАЩИТЫ КОНФИДЕНЦИАЛЬНОСТИ ДАННЫХ В ЦИФРОВЫХ СИСТЕМАХ \n",
    "ПЕРЕДАЧИ ИНФОРМАЦИИ Д.В. Асотов, Б.В. Матвеев, С.Н. Панычев\n",
    "[3] ИССЛЕДОВАНИЕ ХАРАКТЕРИСТИК РАДИОКАНАЛА СВЯЗИ С БЕСПИЛОТНЫМИ ЛЕТАТЕЛЬНЫМИ АППАРАТАМИ А.В. Полынкин, Х.Т. Ле\n",
    "[4]\n",
    "[5] Архипкин Владимир Яковлевич Мешковский Константин Александрович\n",
    "Сравнительная помехозащищенность систем связи с широкополосными\n",
    "и узкополосными сигналами"
   ]
  }
 ],
 "metadata": {
  "kernelspec": {
   "display_name": "Python 3",
   "language": "python",
   "name": "python3"
  },
  "language_info": {
   "codemirror_mode": {
    "name": "ipython",
    "version": 3
   },
   "file_extension": ".py",
   "mimetype": "text/x-python",
   "name": "python",
   "nbconvert_exporter": "python",
   "pygments_lexer": "ipython3",
   "version": "3.6.3"
  }
 },
 "nbformat": 4,
 "nbformat_minor": 2
}
